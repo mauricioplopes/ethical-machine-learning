{
 "cells": [
  {
   "cell_type": "markdown",
   "id": "4af2650c-880a-4dd3-aea5-d97fefaa8335",
   "metadata": {},
   "source": [
    "## Universidade Estadual de Campinas \n",
    "## Instituto de Computação\n",
    "# Imparcialidade\n",
    "## MO810/MC959 - Tópicos em Inteligência Artificial\n",
    "## Ética em Aprendizado de Máquina\n",
    "### Prof. Marcos M. Raimundo\n",
    "---\n",
    "### Alunos:\n",
    "#### Mateus Trentini RA 217290\n",
    "#### Mauricio Pereira Lopes RA 225242\n",
    "#### Rita Braga RA 251627\n",
    "---"
   ]
  },
  {
   "cell_type": "code",
   "execution_count": 3,
   "id": "7d757229-7021-40c5-847d-fc0044dc0812",
   "metadata": {},
   "outputs": [],
   "source": [
    "# load required libraries\n",
    "\n",
    "import pandas as pd\n",
    "import numpy as np\n",
    "import matplotlib.pyplot as plt\n",
    "import seaborn as sns\n",
    "import pickle\n",
    "\n",
    "from aif360.datasets import BinaryLabelDataset\n",
    "from aif360.algorithms.preprocessing import Reweighing, DisparateImpactRemover\n",
    "from aif360.algorithms.inprocessing import PrejudiceRemover\n",
    "from aif360.metrics import BinaryLabelDatasetMetric, ClassificationMetric\n",
    "from aif360.datasets import StandardDataset\n",
    "from aif360 import sklearn\n",
    "\n",
    "from sklearn.metrics import confusion_matrix\n",
    "from sklearn.ensemble import RandomForestClassifier\n",
    "from sklearn.preprocessing import StandardScaler"
   ]
  },
  {
   "cell_type": "code",
   "execution_count": 2,
   "id": "bad563d3-1157-4699-ba2a-9827316e5c71",
   "metadata": {},
   "outputs": [
    {
     "data": {
      "text/html": [
       "<div>\n",
       "<style scoped>\n",
       "    .dataframe tbody tr th:only-of-type {\n",
       "        vertical-align: middle;\n",
       "    }\n",
       "\n",
       "    .dataframe tbody tr th {\n",
       "        vertical-align: top;\n",
       "    }\n",
       "\n",
       "    .dataframe thead th {\n",
       "        text-align: right;\n",
       "    }\n",
       "</style>\n",
       "<table border=\"1\" class=\"dataframe\">\n",
       "  <thead>\n",
       "    <tr style=\"text-align: right;\">\n",
       "      <th></th>\n",
       "      <th>Unnamed: 0</th>\n",
       "      <th>ID</th>\n",
       "      <th>LIMIT_BAL</th>\n",
       "      <th>SEX</th>\n",
       "      <th>EDUCATION</th>\n",
       "      <th>MARRIAGE</th>\n",
       "      <th>AGE</th>\n",
       "      <th>PAY_0</th>\n",
       "      <th>PAY_2</th>\n",
       "      <th>PAY_3</th>\n",
       "      <th>...</th>\n",
       "      <th>BILL_AMT4</th>\n",
       "      <th>BILL_AMT5</th>\n",
       "      <th>BILL_AMT6</th>\n",
       "      <th>PAY_AMT1</th>\n",
       "      <th>PAY_AMT2</th>\n",
       "      <th>PAY_AMT3</th>\n",
       "      <th>PAY_AMT4</th>\n",
       "      <th>PAY_AMT5</th>\n",
       "      <th>PAY_AMT6</th>\n",
       "      <th>default payment next month</th>\n",
       "    </tr>\n",
       "  </thead>\n",
       "  <tbody>\n",
       "    <tr>\n",
       "      <th>0</th>\n",
       "      <td>27623</td>\n",
       "      <td>27623</td>\n",
       "      <td>50000</td>\n",
       "      <td>2</td>\n",
       "      <td>1</td>\n",
       "      <td>2</td>\n",
       "      <td>23</td>\n",
       "      <td>-1</td>\n",
       "      <td>-1</td>\n",
       "      <td>-1</td>\n",
       "      <td>...</td>\n",
       "      <td>4800</td>\n",
       "      <td>9810</td>\n",
       "      <td>660</td>\n",
       "      <td>2548</td>\n",
       "      <td>2321</td>\n",
       "      <td>4800</td>\n",
       "      <td>9810</td>\n",
       "      <td>660</td>\n",
       "      <td>2980</td>\n",
       "      <td>0</td>\n",
       "    </tr>\n",
       "    <tr>\n",
       "      <th>1</th>\n",
       "      <td>28377</td>\n",
       "      <td>28377</td>\n",
       "      <td>50000</td>\n",
       "      <td>2</td>\n",
       "      <td>2</td>\n",
       "      <td>1</td>\n",
       "      <td>36</td>\n",
       "      <td>2</td>\n",
       "      <td>2</td>\n",
       "      <td>2</td>\n",
       "      <td>...</td>\n",
       "      <td>47956</td>\n",
       "      <td>43578</td>\n",
       "      <td>35126</td>\n",
       "      <td>0</td>\n",
       "      <td>4700</td>\n",
       "      <td>0</td>\n",
       "      <td>2004</td>\n",
       "      <td>3500</td>\n",
       "      <td>0</td>\n",
       "      <td>0</td>\n",
       "    </tr>\n",
       "    <tr>\n",
       "      <th>2</th>\n",
       "      <td>10918</td>\n",
       "      <td>10918</td>\n",
       "      <td>200000</td>\n",
       "      <td>2</td>\n",
       "      <td>3</td>\n",
       "      <td>1</td>\n",
       "      <td>54</td>\n",
       "      <td>6</td>\n",
       "      <td>5</td>\n",
       "      <td>4</td>\n",
       "      <td>...</td>\n",
       "      <td>102549</td>\n",
       "      <td>101400</td>\n",
       "      <td>0</td>\n",
       "      <td>0</td>\n",
       "      <td>0</td>\n",
       "      <td>0</td>\n",
       "      <td>0</td>\n",
       "      <td>0</td>\n",
       "      <td>0</td>\n",
       "      <td>0</td>\n",
       "    </tr>\n",
       "    <tr>\n",
       "      <th>3</th>\n",
       "      <td>27235</td>\n",
       "      <td>27235</td>\n",
       "      <td>240000</td>\n",
       "      <td>1</td>\n",
       "      <td>1</td>\n",
       "      <td>1</td>\n",
       "      <td>35</td>\n",
       "      <td>-1</td>\n",
       "      <td>-1</td>\n",
       "      <td>-1</td>\n",
       "      <td>...</td>\n",
       "      <td>17102</td>\n",
       "      <td>13367</td>\n",
       "      <td>22659</td>\n",
       "      <td>2017</td>\n",
       "      <td>21817</td>\n",
       "      <td>1120</td>\n",
       "      <td>13434</td>\n",
       "      <td>22772</td>\n",
       "      <td>22820</td>\n",
       "      <td>0</td>\n",
       "    </tr>\n",
       "    <tr>\n",
       "      <th>4</th>\n",
       "      <td>15172</td>\n",
       "      <td>15172</td>\n",
       "      <td>60000</td>\n",
       "      <td>2</td>\n",
       "      <td>1</td>\n",
       "      <td>2</td>\n",
       "      <td>23</td>\n",
       "      <td>0</td>\n",
       "      <td>0</td>\n",
       "      <td>0</td>\n",
       "      <td>...</td>\n",
       "      <td>8549</td>\n",
       "      <td>7635</td>\n",
       "      <td>12258</td>\n",
       "      <td>3126</td>\n",
       "      <td>1392</td>\n",
       "      <td>5033</td>\n",
       "      <td>3601</td>\n",
       "      <td>5200</td>\n",
       "      <td>3647</td>\n",
       "      <td>0</td>\n",
       "    </tr>\n",
       "  </tbody>\n",
       "</table>\n",
       "<p>5 rows × 26 columns</p>\n",
       "</div>"
      ],
      "text/plain": [
       "   Unnamed: 0     ID  LIMIT_BAL  SEX  EDUCATION  MARRIAGE  AGE  PAY_0  PAY_2  \\\n",
       "0       27623  27623      50000    2          1         2   23     -1     -1   \n",
       "1       28377  28377      50000    2          2         1   36      2      2   \n",
       "2       10918  10918     200000    2          3         1   54      6      5   \n",
       "3       27235  27235     240000    1          1         1   35     -1     -1   \n",
       "4       15172  15172      60000    2          1         2   23      0      0   \n",
       "\n",
       "   PAY_3  ...  BILL_AMT4  BILL_AMT5  BILL_AMT6  PAY_AMT1  PAY_AMT2  PAY_AMT3  \\\n",
       "0     -1  ...       4800       9810        660      2548      2321      4800   \n",
       "1      2  ...      47956      43578      35126         0      4700         0   \n",
       "2      4  ...     102549     101400          0         0         0         0   \n",
       "3     -1  ...      17102      13367      22659      2017     21817      1120   \n",
       "4      0  ...       8549       7635      12258      3126      1392      5033   \n",
       "\n",
       "   PAY_AMT4  PAY_AMT5  PAY_AMT6  default payment next month  \n",
       "0      9810       660      2980                           0  \n",
       "1      2004      3500         0                           0  \n",
       "2         0         0         0                           0  \n",
       "3     13434     22772     22820                           0  \n",
       "4      3601      5200      3647                           0  \n",
       "\n",
       "[5 rows x 26 columns]"
      ]
     },
     "execution_count": 2,
     "metadata": {},
     "output_type": "execute_result"
    }
   ],
   "source": [
    "# load datasets\n",
    "\n",
    "df_train = pd.read_excel(\"../data/processed/train_data.xlsx\")\n",
    "df_val = pd.read_excel(\"../data/processed/validation_data.xlsx\")\n",
    "df_test = pd.read_excel(\"../data/processed/test_data.xlsx\")\n",
    "df_train.head()"
   ]
  },
  {
   "cell_type": "markdown",
   "id": "8c215a18-8f56-4f28-9489-87107dd0d2f1",
   "metadata": {},
   "source": [
    "---\n",
    "# Enuncie e apresente uma ou mais métricas de imparcialidade mais ajustadas à aplicação escolhida, justifique."
   ]
  },
  {
   "cell_type": "markdown",
   "id": "2dd240a8-2c5a-4869-9a85-109d7b467c13",
   "metadata": {},
   "source": [
    "---\n",
    "## Measuring Fairness Using Equal Opportunity"
   ]
  },
  {
   "cell_type": "code",
   "execution_count": 8,
   "id": "55af8b4e-2972-4e32-b15e-6c53e58f637e",
   "metadata": {},
   "outputs": [],
   "source": [
    "# load trained model\n",
    "rf_model = pickle.load(open('../models/best_rf.pkl', 'rb'))"
   ]
  },
  {
   "cell_type": "code",
   "execution_count": 10,
   "id": "1dd60a37-25d8-463f-9503-6c7b5bc4cbd3",
   "metadata": {},
   "outputs": [],
   "source": [
    "# predict on validation dataset\n",
    "X_val = df_val.drop(columns=['Unnamed: 0', 'ID', 'default payment next month'])\n",
    "# Random Forest model's prediction\n",
    "y_hat_rf = rf_model.predict(X_val)"
   ]
  },
  {
   "cell_type": "code",
   "execution_count": 13,
   "id": "b3f6621b-6678-4a77-be0d-dbc382c3d643",
   "metadata": {},
   "outputs": [
    {
     "name": "stdout",
     "output_type": "stream",
     "text": [
      "Random Forest model: The algorithm does not have Equal Opportunity for both groups (male vs female).\n",
      "\n",
      "True Positive Rates:\n",
      "Male: 0.621\n",
      "Female: 0.667\n",
      "Equal Opportunity Metric: -0.046\n"
     ]
    }
   ],
   "source": [
    "# create new datafrane with sensitive attributes, predictions for each model and ground truth\n",
    "y_hat_vs_y_val = pd.DataFrame({'SEX': df_val.SEX, 'MARRIAGE': df_val.MARRIAGE, 'AGE': df_val.AGE, 'EDUCATION': df_val.EDUCATION,\n",
    "                               'y_hat_rf': y_hat_rf, 'y_val': df_val['default payment next month']})\n",
    "\n",
    "# Separate data by sex\n",
    "male = y_hat_vs_y_val[y_hat_vs_y_val['SEX'] == 1]\n",
    "female = y_hat_vs_y_val[y_hat_vs_y_val['SEX'] == 2]\n",
    "\n",
    "# Calculate confusion matrices for each group\n",
    "male_matrix = confusion_matrix(male.y_hat_rf, male.y_val)\n",
    "female_matrix = confusion_matrix(female.y_hat_rf, female.y_val)\n",
    "\n",
    "# Calculate true positive rates for each group\n",
    "male_tpr = male_matrix[1,1] / (male_matrix[1,0] + male_matrix[1,1])\n",
    "female_tpr = female_matrix[1,1] / (female_matrix[1,0] + female_matrix[1,1])\n",
    "\n",
    "# Compare true positive rates to assess fairness\n",
    "if male_tpr == female_tpr:\n",
    "    print(\"Random Forest model: The algorithm has Equal Opportunity for both groups (male vs female).\")\n",
    "else:\n",
    "    print(\"Random Forest model: The algorithm does not have Equal Opportunity for both groups (male vs female).\")\n",
    "\n",
    "# Output true positive rates\n",
    "print(\"\\nTrue Positive Rates:\")\n",
    "print(\"Male: {:.3f}\".format(male_tpr))\n",
    "print(\"Female: {:.3f}\".format(female_tpr))\n",
    "print('Equal Opportunity Metric: {:.3f}'.format(male_tpr - female_tpr))"
   ]
  },
  {
   "cell_type": "markdown",
   "id": "f47ee3a2-f17e-4457-bf07-6998b6b5c589",
   "metadata": {},
   "source": [
    "---\n",
    "## Disparate impact"
   ]
  },
  {
   "cell_type": "code",
   "execution_count": 5,
   "id": "503fe384-044e-4694-93c2-a8aa0d5a1241",
   "metadata": {},
   "outputs": [],
   "source": [
    "# calculating DI manually\n",
    "\n",
    "def calc_prop(data, group_col, group, output_col, output_val):\n",
    "    new = data[data[group_col] == group]\n",
    "    return len(new[new[output_col] == output_val])/len(new)"
   ]
  },
  {
   "cell_type": "code",
   "execution_count": 19,
   "id": "1bee4dc7-0627-4950-bdc8-5977cf77d993",
   "metadata": {},
   "outputs": [
    {
     "name": "stdout",
     "output_type": "stream",
     "text": [
      "parity_rate_male: 0.7549540840985983\n",
      "parity_rate_female: 0.7919515837459719\n",
      "parity rate ration female/male: 1.049006291146233\n"
     ]
    }
   ],
   "source": [
    "parity_rate_male = calc_prop(df_train, \"SEX\", 1, \"default payment next month\", 0)\n",
    "parity_rate_female = calc_prop(df_train, \"SEX\", 2, \"default payment next month\", 0)\n",
    "print(\"parity_rate_male:\", parity_rate_male)\n",
    "print(\"parity_rate_female:\", parity_rate_female)\n",
    "print(\"parity rate ration female/male:\", parity_rate_female/parity_rate_male)"
   ]
  },
  {
   "cell_type": "code",
   "execution_count": 23,
   "id": "2b343117-892d-4c4e-97f3-89aa06d7e4cd",
   "metadata": {},
   "outputs": [
    {
     "name": "stdout",
     "output_type": "stream",
     "text": [
      "Disparate Impact: 1.049006291146233\n"
     ]
    }
   ],
   "source": [
    "# calculating DI using AIF360\n",
    "\n",
    "privileged_groups = [{'SEX': 1}]\n",
    "unprivileged_groups = [{'SEX': 2}]\n",
    "\n",
    "binary_label_dataset_original = BinaryLabelDataset(df=df_train, \n",
    "                                        label_names=['default payment next month'], \n",
    "                                        protected_attribute_names=['SEX'],\n",
    "                                        favorable_label=0, # non-default\n",
    "                                        unfavorable_label=1, # default label\n",
    "                                        )\n",
    "\n",
    "di = BinaryLabelDatasetMetric(binary_label_dataset_original,\n",
    "                              unprivileged_groups = unprivileged_groups,\n",
    "                              privileged_groups = privileged_groups\n",
    "                             ).disparate_impact()\n",
    "\n",
    "print(\"Disparate Impact:\", di)"
   ]
  },
  {
   "cell_type": "markdown",
   "id": "fba70309-8938-47af-a20b-f9c610fa5413",
   "metadata": {},
   "source": [
    "---\n",
    "# Aplique duas metodologias de pré-processamento mais adequadas à aplicação escolhida.\n",
    "---"
   ]
  },
  {
   "cell_type": "markdown",
   "id": "79439f1e-bc46-45c7-862b-8cd2c994c12b",
   "metadata": {},
   "source": [
    "## Reweighing"
   ]
  },
  {
   "cell_type": "code",
   "execution_count": 24,
   "id": "51a44e2a-c28c-4c00-b722-122bed6dc5c3",
   "metadata": {},
   "outputs": [],
   "source": [
    "# Apply Reweighing algorithm\n",
    "reweighing = Reweighing(unprivileged_groups = unprivileged_groups, privileged_groups = privileged_groups)\n",
    "transformed_data_train = reweighing.fit_transform(binary_label_dataset_original)"
   ]
  },
  {
   "cell_type": "code",
   "execution_count": 26,
   "id": "4b9577b3-7082-4388-a70e-353b7cd63aa8",
   "metadata": {},
   "outputs": [
    {
     "name": "stdout",
     "output_type": "stream",
     "text": [
      "Disparate Impact: 1.0\n"
     ]
    }
   ],
   "source": [
    "reweighing_transformed_di = BinaryLabelDatasetMetric(transformed_data_train,\n",
    "                              unprivileged_groups = unprivileged_groups,\n",
    "                              privileged_groups = privileged_groups\n",
    "                             ).disparate_impact()\n",
    "\n",
    "print(\"Disparate Impact:\", reweighing_transformed_di)"
   ]
  },
  {
   "cell_type": "markdown",
   "id": "4251daf4-1263-4a87-b23a-ffdbb1c21807",
   "metadata": {},
   "source": [
    "***Com reweighing o DI foi para 1.***"
   ]
  },
  {
   "cell_type": "markdown",
   "id": "9036cd79-752c-44c0-a3af-2cb81b6850fc",
   "metadata": {},
   "source": [
    "---\n",
    "## Disparate Impact Remover\n"
   ]
  },
  {
   "cell_type": "code",
   "execution_count": 17,
   "id": "4113c35a-891b-4ddd-82b2-5702333a3bbd",
   "metadata": {},
   "outputs": [],
   "source": [
    "def apply_dir(rep_lev, bin_label_data):\n",
    "    di_remover = DisparateImpactRemover(repair_level = rep_lev)\n",
    "    binary_label_dataset_transformed = di_remover.fit_transform(bin_label_data)\n",
    "    df_transformed = binary_label_dataset_transformed.convert_to_dataframe()[0] # create the transformed dataframe\n",
    "    return df_transformed"
   ]
  },
  {
   "cell_type": "code",
   "execution_count": 37,
   "id": "ddcec6f3-ef9f-46d8-a7d4-3b61f3f6a491",
   "metadata": {},
   "outputs": [],
   "source": [
    "# Convert DataFrame to BinaryLabelDataset\n",
    "binary_label_dataset = BinaryLabelDataset(df = df_train,\n",
    "                                        label_names = ['default payment next month'], \n",
    "                                        protected_attribute_names = ['SEX'],\n",
    "                                        favorable_label = 0, # non-default\n",
    "                                        unfavorable_label = 1, # default label\n",
    "                                        )\n",
    "\n",
    "df_transformed = apply_dir(1, binary_label_dataset)"
   ]
  },
  {
   "cell_type": "code",
   "execution_count": 39,
   "id": "a2abfe82-4d31-4ab1-b645-19bcc339d6bf",
   "metadata": {},
   "outputs": [
    {
     "name": "stdout",
     "output_type": "stream",
     "text": [
      "Disparate Impact: 1.049006291146233\n"
     ]
    }
   ],
   "source": [
    "# calculating DI for the transformed dataset\n",
    "\n",
    "# convert df_transformed to binary label dataset\n",
    "binary_label_df_transformed = BinaryLabelDataset(df = df_transformed,\n",
    "                                        label_names = ['default payment next month'], \n",
    "                                        protected_attribute_names = ['SEX'],\n",
    "                                        favorable_label = 0, # non-default\n",
    "                                        unfavorable_label = 1, # default label\n",
    "                                        )\n",
    "\n",
    "# extract DI metric from transformed dataset\n",
    "dir_transformed_di = BinaryLabelDatasetMetric(binary_label_df_transformed,\n",
    "                              unprivileged_groups = unprivileged_groups,\n",
    "                              privileged_groups = privileged_groups\n",
    "                             ).disparate_impact()\n",
    "\n",
    "print(\"Disparate Impact:\", dir_transformed_di)"
   ]
  },
  {
   "cell_type": "markdown",
   "id": "06a22695-c9a7-41a3-8fe4-0236fee4b30e",
   "metadata": {},
   "source": [
    "***Não houve mudança ao aplicar o DIR.***"
   ]
  },
  {
   "cell_type": "markdown",
   "id": "6c9074ad-39fc-488d-ab2f-31e5d653c009",
   "metadata": {},
   "source": [
    "---\n",
    "# Aplique duas metodologias de processamento mais adequadas à aplicação escolhida.\n",
    "---"
   ]
  },
  {
   "cell_type": "markdown",
   "id": "702111ba-8c4b-4181-82e2-6c670816f31d",
   "metadata": {},
   "source": [
    "## Adversarial Fairness Classifier"
   ]
  },
  {
   "cell_type": "code",
   "execution_count": null,
   "id": "6a95f67b-c15a-4c85-bc4d-92fdc27ec4da",
   "metadata": {},
   "outputs": [],
   "source": []
  },
  {
   "cell_type": "code",
   "execution_count": null,
   "id": "127abf40-79e6-4e9c-9c0e-700ac4ec7aba",
   "metadata": {},
   "outputs": [],
   "source": []
  },
  {
   "cell_type": "code",
   "execution_count": null,
   "id": "e3a525f4-3b14-4742-bc12-89d4223bc61d",
   "metadata": {},
   "outputs": [],
   "source": []
  },
  {
   "cell_type": "code",
   "execution_count": null,
   "id": "153ebc66-5879-45d3-a037-ccaed8b57b65",
   "metadata": {},
   "outputs": [],
   "source": []
  },
  {
   "cell_type": "code",
   "execution_count": null,
   "id": "effe5fbb-5af5-4943-96a2-dfa0e1f76ded",
   "metadata": {},
   "outputs": [],
   "source": []
  },
  {
   "cell_type": "code",
   "execution_count": null,
   "id": "9ad002b4-a549-4421-b101-2dfbf077a06d",
   "metadata": {},
   "outputs": [],
   "source": []
  },
  {
   "cell_type": "markdown",
   "id": "ba88436e-7e3f-4fbb-b4f1-fc984af9d093",
   "metadata": {},
   "source": [
    "---\n",
    "# Aplique duas metodologias de pós-processamento mais adequadas à aplicação escolhida.\n",
    "---"
   ]
  },
  {
   "cell_type": "markdown",
   "id": "9aa5d55b-994c-4da2-b8b2-760c090d8cd8",
   "metadata": {},
   "source": [
    "## Calibrated Equalized Odds Postprocessing"
   ]
  },
  {
   "cell_type": "code",
   "execution_count": null,
   "id": "5d31a0c4-4d70-4bda-8b48-0dd9cd5066a9",
   "metadata": {},
   "outputs": [],
   "source": []
  },
  {
   "cell_type": "code",
   "execution_count": null,
   "id": "73e599f8-7283-4475-b0b4-6e15c2c4a659",
   "metadata": {},
   "outputs": [],
   "source": []
  },
  {
   "cell_type": "code",
   "execution_count": null,
   "id": "a6513b3f-f5b6-40da-95ae-45a8d9439d2a",
   "metadata": {},
   "outputs": [],
   "source": []
  },
  {
   "cell_type": "code",
   "execution_count": null,
   "id": "3ff023b3-2a5c-4387-a764-b8f72dd77409",
   "metadata": {},
   "outputs": [],
   "source": []
  },
  {
   "cell_type": "code",
   "execution_count": null,
   "id": "ea617abf-f489-4ec4-b6c2-b30aa1f3fe4c",
   "metadata": {},
   "outputs": [],
   "source": []
  },
  {
   "cell_type": "code",
   "execution_count": null,
   "id": "24c87b03-1d90-46e1-9fec-458e72732dd8",
   "metadata": {},
   "outputs": [],
   "source": []
  },
  {
   "cell_type": "code",
   "execution_count": null,
   "id": "16cf3f14-96dd-4bda-bf54-871a84dfe94c",
   "metadata": {},
   "outputs": [],
   "source": []
  },
  {
   "cell_type": "code",
   "execution_count": null,
   "id": "7e3c6d5e-d0d6-42bb-b57b-3545a3f4d60f",
   "metadata": {},
   "outputs": [],
   "source": []
  },
  {
   "cell_type": "code",
   "execution_count": null,
   "id": "f0c25f39-4fbd-41a9-b4ba-2c1871017fd4",
   "metadata": {},
   "outputs": [],
   "source": []
  },
  {
   "cell_type": "code",
   "execution_count": null,
   "id": "9ffe0ec1-894e-494b-9546-f59c11e96892",
   "metadata": {},
   "outputs": [],
   "source": []
  },
  {
   "cell_type": "code",
   "execution_count": null,
   "id": "c4ca8bc4-274f-4fc6-8fc4-d3f1c1ed8f80",
   "metadata": {},
   "outputs": [],
   "source": []
  },
  {
   "cell_type": "code",
   "execution_count": null,
   "id": "a2e2a34d-a70b-4d56-a0a7-b2291f6117d4",
   "metadata": {},
   "outputs": [],
   "source": []
  },
  {
   "cell_type": "code",
   "execution_count": null,
   "id": "714da418-fa28-4847-a694-9f5205eec80b",
   "metadata": {},
   "outputs": [],
   "source": []
  },
  {
   "cell_type": "code",
   "execution_count": null,
   "id": "34eba252-2474-4395-b46b-6c4f56c8d7db",
   "metadata": {},
   "outputs": [],
   "source": []
  },
  {
   "cell_type": "code",
   "execution_count": null,
   "id": "960a9a31-9f43-482f-a57e-ea0dbb34ae4f",
   "metadata": {},
   "outputs": [],
   "source": []
  },
  {
   "cell_type": "code",
   "execution_count": null,
   "id": "b22a3256-a723-445e-a0c8-4f1ae2834e3d",
   "metadata": {},
   "outputs": [],
   "source": []
  },
  {
   "cell_type": "code",
   "execution_count": null,
   "id": "1af42602-95f8-42ff-b970-ad8b4d4644ad",
   "metadata": {},
   "outputs": [],
   "source": []
  },
  {
   "cell_type": "code",
   "execution_count": null,
   "id": "05c04943-2f0b-498b-a39a-3ffbdd1fb2de",
   "metadata": {},
   "outputs": [],
   "source": []
  },
  {
   "cell_type": "code",
   "execution_count": null,
   "id": "263c157f-6e26-46ad-90d3-2de05598b603",
   "metadata": {},
   "outputs": [],
   "source": []
  },
  {
   "cell_type": "code",
   "execution_count": null,
   "id": "c68e408f-6e0a-4eb3-867d-73e63bd7a565",
   "metadata": {},
   "outputs": [],
   "source": []
  },
  {
   "cell_type": "code",
   "execution_count": null,
   "id": "2bbd2608-8b35-4346-8997-eaad26b694b4",
   "metadata": {},
   "outputs": [],
   "source": []
  },
  {
   "cell_type": "code",
   "execution_count": null,
   "id": "f50d90d2-ad08-423f-ab13-a78c45648fc8",
   "metadata": {},
   "outputs": [],
   "source": []
  },
  {
   "cell_type": "code",
   "execution_count": null,
   "id": "7863e639-708b-4054-a37e-35f730b86ca6",
   "metadata": {},
   "outputs": [],
   "source": []
  },
  {
   "cell_type": "code",
   "execution_count": null,
   "id": "68e98a23-d7c9-495e-907d-67cd7b09162d",
   "metadata": {},
   "outputs": [],
   "source": []
  },
  {
   "cell_type": "code",
   "execution_count": null,
   "id": "1fee65c3-f8bd-480d-9a50-ad83cafa1c79",
   "metadata": {},
   "outputs": [],
   "source": []
  },
  {
   "cell_type": "code",
   "execution_count": null,
   "id": "fde5bbe3-9e0b-4fde-950d-7f3acb73a5ba",
   "metadata": {},
   "outputs": [],
   "source": []
  },
  {
   "cell_type": "code",
   "execution_count": null,
   "id": "62243eab-6a91-487b-87c2-4def44f55a21",
   "metadata": {},
   "outputs": [],
   "source": []
  },
  {
   "cell_type": "code",
   "execution_count": null,
   "id": "0f0f49a5-ddbb-4093-b267-89eb08d07592",
   "metadata": {},
   "outputs": [],
   "source": []
  },
  {
   "cell_type": "code",
   "execution_count": null,
   "id": "b85eb4d2-65c7-4ab7-a79d-c31cad7077da",
   "metadata": {},
   "outputs": [],
   "source": []
  },
  {
   "cell_type": "code",
   "execution_count": null,
   "id": "97201371-7a89-42dd-b9f2-6b4f6479c7dc",
   "metadata": {},
   "outputs": [],
   "source": []
  },
  {
   "cell_type": "code",
   "execution_count": null,
   "id": "0fe1ea30-329c-4a25-9e9a-956d87295ecd",
   "metadata": {},
   "outputs": [],
   "source": []
  },
  {
   "cell_type": "code",
   "execution_count": null,
   "id": "cf2b6c5a-8d07-4e01-b705-86f97a650257",
   "metadata": {},
   "outputs": [],
   "source": []
  },
  {
   "cell_type": "code",
   "execution_count": null,
   "id": "7f64f840-42d7-4c0e-84ac-9878ce29b724",
   "metadata": {},
   "outputs": [],
   "source": []
  }
 ],
 "metadata": {
  "kernelspec": {
   "display_name": "Python 3 (ipykernel)",
   "language": "python",
   "name": "python3"
  },
  "language_info": {
   "codemirror_mode": {
    "name": "ipython",
    "version": 3
   },
   "file_extension": ".py",
   "mimetype": "text/x-python",
   "name": "python",
   "nbconvert_exporter": "python",
   "pygments_lexer": "ipython3",
   "version": "3.11.5"
  }
 },
 "nbformat": 4,
 "nbformat_minor": 5
}
